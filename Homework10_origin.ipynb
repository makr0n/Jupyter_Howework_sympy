{
 "cells": [
  {
   "cell_type": "markdown",
   "id": "3a8a0cd3",
   "metadata": {},
   "source": [
    "### Исследование функции y = |5x^3| +3x^2 - 6|x|:\n",
    "     \n",
    "1. Определить корни\n",
    "2. Найти интервалы, на которых функция возрастает\n",
    "3. Найти интервалы, на которых функция убывает\n",
    "4. Построить график\n",
    "5. Вычислить вершину\n",
    "6. Определить промежутки, на котором f > 0\n",
    "7. Определить промежутки, на котором f < 0"
   ]
  },
  {
   "cell_type": "code",
   "execution_count": 1,
   "id": "34d11738",
   "metadata": {},
   "outputs": [],
   "source": [
    "'Модуль импорта'\n",
    "from sympy import Symbol, S, oo,sqrt\n",
    "from sympy.plotting import plot\n",
    "from sympy.solvers import solve\n",
    "from sympy import diff\n",
    "from sympy import singularities\n",
    "from sympy import calculus\n",
    "from sympy import is_increasing\n",
    "from sympy import is_decreasing\n",
    "from sympy import Interval\n",
    "from sympy.core import evalf"
   ]
  },
  {
   "cell_type": "markdown",
   "id": "408e0b9c",
   "metadata": {},
   "source": [
    "#### 1. Определить корни"
   ]
  },
  {
   "cell_type": "code",
   "execution_count": 2,
   "id": "546b9a29",
   "metadata": {
    "scrolled": true
   },
   "outputs": [
    {
     "data": {
      "text/latex": [
       "$\\displaystyle 5 x^{2} \\left|{x}\\right| + 3 x^{2} - 6 \\left|{x}\\right|$"
      ],
      "text/plain": [
       "5*x**2*Abs(x) + 3*x**2 - 6*Abs(x)"
      ]
     },
     "execution_count": 2,
     "metadata": {},
     "output_type": "execute_result"
    }
   ],
   "source": [
    "x = Symbol('x',real=True)\n",
    "func=abs(5*x**3)+3*x**2-6*abs(x)\n",
    "func"
   ]
  },
  {
   "cell_type": "code",
   "execution_count": 3,
   "id": "469cf95f",
   "metadata": {
    "scrolled": true
   },
   "outputs": [
    {
     "data": {
      "text/plain": [
       "[0, -3/10 + sqrt(129)/10, 3/10 - sqrt(129)/10]"
      ]
     },
     "execution_count": 3,
     "metadata": {},
     "output_type": "execute_result"
    }
   ],
   "source": [
    "roots=solve(func,x)\n",
    "roots"
   ]
  },
  {
   "cell_type": "markdown",
   "id": "3cf4aa4a",
   "metadata": {},
   "source": [
    "#### 2. Найти интервалы, на которых функция возрастает"
   ]
  },
  {
   "cell_type": "markdown",
   "id": "8436f9e3",
   "metadata": {},
   "source": [
    "_Найдем область определения функции_"
   ]
  },
  {
   "cell_type": "code",
   "execution_count": 4,
   "id": "a782bcbe",
   "metadata": {},
   "outputs": [
    {
     "data": {
      "text/latex": [
       "$\\displaystyle \\emptyset$"
      ],
      "text/plain": [
       "EmptySet"
      ]
     },
     "execution_count": 4,
     "metadata": {},
     "output_type": "execute_result"
    }
   ],
   "source": [
    "singularities(func, x)"
   ]
  },
  {
   "cell_type": "code",
   "execution_count": 5,
   "id": "a862e96a",
   "metadata": {},
   "outputs": [
    {
     "data": {
      "text/latex": [
       "$\\displaystyle \\mathbb{R}$"
      ],
      "text/plain": [
       "Reals"
      ]
     },
     "execution_count": 5,
     "metadata": {},
     "output_type": "execute_result"
    }
   ],
   "source": [
    "func_domain=S.Reals - singularities(func, x)\n",
    "func_domain"
   ]
  },
  {
   "cell_type": "markdown",
   "id": "8c5b76ba",
   "metadata": {},
   "source": [
    "Функция определена на всей числовой прямой"
   ]
  },
  {
   "cell_type": "markdown",
   "id": "a8a59b73",
   "metadata": {},
   "source": [
    "Найдем первую производную функции:"
   ]
  },
  {
   "cell_type": "code",
   "execution_count": 6,
   "id": "5417298c",
   "metadata": {
    "scrolled": false
   },
   "outputs": [
    {
     "data": {
      "text/latex": [
       "$\\displaystyle 5 x^{2} \\operatorname{sign}{\\left(x \\right)} + 10 x \\left|{x}\\right| + 6 x - 6 \\operatorname{sign}{\\left(x \\right)}$"
      ],
      "text/plain": [
       "5*x**2*sign(x) + 10*x*Abs(x) + 6*x - 6*sign(x)"
      ]
     },
     "execution_count": 6,
     "metadata": {},
     "output_type": "execute_result"
    }
   ],
   "source": [
    "derivative=diff(func,x)\n",
    "derivative"
   ]
  },
  {
   "cell_type": "markdown",
   "id": "4b316941",
   "metadata": {},
   "source": [
    "Найдем  f'(x)=0"
   ]
  },
  {
   "cell_type": "code",
   "execution_count": 7,
   "id": "e8e5e846",
   "metadata": {
    "scrolled": false
   },
   "outputs": [
    {
     "data": {
      "text/plain": [
       "([x], {(-1/5 + sqrt(11)/5,)})"
      ]
     },
     "execution_count": 7,
     "metadata": {},
     "output_type": "execute_result"
    }
   ],
   "source": [
    "der_roots=solve(derivative,x,set=True)\n",
    "der_roots"
   ]
  },
  {
   "cell_type": "code",
   "execution_count": 8,
   "id": "ede9ecfe",
   "metadata": {
    "scrolled": true
   },
   "outputs": [
    {
     "data": {
      "image/png": "[encoded data removed]",
      "text/plain": [
       "<Figure size 432x288 with 1 Axes>"
      ]
     },
     "metadata": {
      "needs_background": "light"
     },
     "output_type": "display_data"
    }
   ],
   "source": [
    "graph=plot(func, derivative, (x,-1,1))"
   ]
  },
  {
   "cell_type": "markdown",
   "id": "c69ed5a7",
   "metadata": {},
   "source": [
    "К сожалению вычислить точки пересечения графика производной функции с осью X не получилось. Вычисляется один корень, хотя мы видим из графика что их должно быть 3. Пакет mathcad строит совершенно другой график и другое решение. Пришлось убрать модуль из функции и сделать работу уже с ним. "
   ]
  }
 ],
 "metadata": {
  "kernelspec": {
   "display_name": "Python 3 (ipykernel)",
   "language": "python",
   "name": "python3"
  },
  "language_info": {
   "codemirror_mode": {
    "name": "ipython",
    "version": 3
   },
   "file_extension": ".py",
   "mimetype": "text/x-python",
   "name": "python",
   "nbconvert_exporter": "python",
   "pygments_lexer": "ipython3",
   "version": "3.9.12"
  }
 },
 "nbformat": 4,
 "nbformat_minor": 5
}
